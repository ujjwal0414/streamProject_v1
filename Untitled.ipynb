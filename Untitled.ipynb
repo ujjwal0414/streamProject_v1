{
 "cells": [
  {
   "cell_type": "code",
   "execution_count": null,
   "id": "e39b3a30-625b-46fb-b1ba-15253d6b9717",
   "metadata": {},
   "outputs": [],
   "source": []
  }
 ],
 "metadata": {
  "kernelspec": {
   "display_name": "twin_model_kernel",
   "language": "python",
   "name": "twin_model_kernel"
  },
  "language_info": {
   "codemirror_mode": {
    "name": "ipython",
    "version": 3
   },
   "file_extension": ".py",
   "mimetype": "text/x-python",
   "name": "python",
   "nbconvert_exporter": "python",
   "pygments_lexer": "ipython3",
   "version": "3.12.4"
  }
 },
 "nbformat": 4,
 "nbformat_minor": 5
}
