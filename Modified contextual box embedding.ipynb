{
 "cells": [
  {
   "cell_type": "code",
   "execution_count": 1,
   "id": "4b5e7dfd-83dc-4c9a-8656-6d76fb3c05eb",
   "metadata": {},
   "outputs": [
    {
     "name": "stderr",
     "output_type": "stream",
     "text": [
      "C:\\Users\\ujwal\\Twin_tower_model\\twin_model\\Lib\\site-packages\\tqdm\\auto.py:21: TqdmWarning: IProgress not found. Please update jupyter and ipywidgets. See https://ipywidgets.readthedocs.io/en/stable/user_install.html\n",
      "  from .autonotebook import tqdm as notebook_tqdm\n",
      "C:\\Users\\ujwal\\Twin_tower_model\\twin_model\\Lib\\site-packages\\transformers\\tokenization_utils_base.py:1617: FutureWarning: `clean_up_tokenization_spaces` was not set. It will be set to `True` by default. This behavior will be deprecated in transformers v4.45, and will be then set to `False` by default. For more details check this issue: https://github.com/huggingface/transformers/issues/31884\n",
      "  warnings.warn(\n",
      "Some weights of RobertaModel were not initialized from the model checkpoint at roberta-base and are newly initialized: ['roberta.pooler.dense.bias', 'roberta.pooler.dense.weight']\n",
      "You should probably TRAIN this model on a down-stream task to be able to use it for predictions and inference.\n"
     ]
    }
   ],
   "source": [
    "from transformers import AutoTokenizer, AutoModel\n",
    "import torch\n",
    "import torch.nn as nn\n",
    "import torch.nn.functional as F\n",
    "\n",
    "tokenizer = AutoTokenizer.from_pretrained('roberta-base')\n",
    "bert_model = AutoModel.from_pretrained('roberta-base')\n"
   ]
  },
  {
   "cell_type": "code",
   "execution_count": 2,
   "id": "ad5f74da-1c4f-4dea-bebe-5a4e5f660a0a",
   "metadata": {},
   "outputs": [],
   "source": [
    "class ProtoBoxWSD(nn.Module):\n",
    "    def __init__(self, box_dim=1536, hidden_dim=768, num_senses=3):\n",
    "        super().__init__()\n",
    "        self.bert = bert_model  # RoBERTa (fine-tunable)\n",
    "        self.linear_proj = nn.Linear(box_dim, hidden_dim)\n",
    "        self.box_mu = nn.Parameter(torch.randn(num_senses, hidden_dim))\n",
    "        self.box_delta = nn.Parameter(F.softplus(torch.randn(num_senses, hidden_dim)))\n",
    "        self.num_senses = num_senses\n",
    "\n",
    "    def forward(self, sentence, gloss_list, target_token_idx):\n",
    "        # Encode sentence\n",
    "        inputs = tokenizer(sentence, return_tensors='pt')\n",
    "        outputs = self.bert(**inputs)\n",
    "\n",
    "        # [CLS] embedding\n",
    "        cls_emb = outputs.last_hidden_state[0, 0]\n",
    "\n",
    "        # Token embedding\n",
    "        word_emb = outputs.last_hidden_state[0, target_token_idx]\n",
    "\n",
    "        # Concatenate [CLS] + token\n",
    "        combined_emb = torch.cat([cls_emb, word_emb], dim=0)\n",
    "\n",
    "        # Project to box space\n",
    "        emb_proj = self.linear_proj(combined_emb)\n",
    "\n",
    "        # Compute distance to each box center\n",
    "        distances = torch.stack([\n",
    "            torch.norm(emb_proj - self.box_mu[i], p=2)\n",
    "            for i in range(self.num_senses)\n",
    "        ])\n",
    "\n",
    "        # Smaller distance → higher probability (negative distance logits)\n",
    "        logits = -distances\n",
    "\n",
    "        return logits\n"
   ]
  },
  {
   "cell_type": "code",
   "execution_count": 4,
   "id": "daf043b9-3db5-48f2-9294-51b82e936d0c",
   "metadata": {},
   "outputs": [],
   "source": [
    "model = ProtoBoxWSD(\n",
    "    box_dim=1536,  # Since we concatenate two 768-dim vectors (CLS + Token)\n",
    "    hidden_dim=768,  # Same dimension as BERT output\n",
    "    num_senses=3     # Number of senses in your task (adjust as per dataset)\n",
    ")\n"
   ]
  },
  {
   "cell_type": "code",
   "execution_count": 5,
   "id": "04a10212-2d57-46e9-bcff-44beb567d491",
   "metadata": {},
   "outputs": [],
   "source": [
    "optimizer = torch.optim.Adam(model.parameters(), lr=2e-5)\n",
    "criterion = nn.CrossEntropyLoss()\n",
    "\n",
    "def train_step(sentence, glosses, correct_label, target_token_idx):\n",
    "    model.train()\n",
    "    optimizer.zero_grad()\n",
    "\n",
    "    # Append gloss (sense definitions)\n",
    "    gloss_text = \" [SEP] \".join([f\"Sense{i+1}: {gloss}\" for i, gloss in enumerate(glosses)])\n",
    "    combined_input = sentence + \" [SEP] \" + gloss_text\n",
    "\n",
    "    logits = model(combined_input, glosses, target_token_idx)\n",
    "    label_tensor = torch.tensor([correct_label])\n",
    "    loss = criterion(logits.unsqueeze(0), label_tensor)\n",
    "\n",
    "    loss.backward()\n",
    "    optimizer.step()\n",
    "\n",
    "    return loss.item()\n"
   ]
  },
  {
   "cell_type": "code",
   "execution_count": 6,
   "id": "fbb3d0f5-35a7-41e0-acd6-0bf0767e0824",
   "metadata": {},
   "outputs": [],
   "source": [
    "from sklearn.metrics import accuracy_score\n",
    "\n",
    "def evaluate(model, dataset):\n",
    "    model.eval()\n",
    "    y_true, y_pred = [], []\n",
    "    for sentence, glosses, label, target_idx in dataset:\n",
    "        with torch.no_grad():\n",
    "            logits = model(sentence, glosses, target_idx)\n",
    "            pred = logits.argmax().item()\n",
    "\n",
    "        y_true.append(label)\n",
    "        y_pred.append(pred)\n",
    "\n",
    "    acc = accuracy_score(y_true, y_pred)\n",
    "    return acc\n"
   ]
  },
  {
   "cell_type": "code",
   "execution_count": 7,
   "id": "fb6ce74f-e898-4c5e-8b18-f3df3a6fe30a",
   "metadata": {},
   "outputs": [],
   "source": [
    "import matplotlib.pyplot as plt\n",
    "import seaborn as sns\n",
    "\n",
    "def plot_box_embeddings(model):\n",
    "    mus = model.box_mu.detach().numpy()\n",
    "    plt.figure(figsize=(6, 6))\n",
    "    sns.scatterplot(x=mus[:,0], y=mus[:,1], hue=[f'Sense {i+1}' for i in range(len(mus))], s=100)\n",
    "    plt.title('ProtoBox Centers (Modified)')\n",
    "    plt.xlabel('Dimension 1')\n",
    "    plt.ylabel('Dimension 2')\n",
    "    plt.legend()\n",
    "    plt.grid(True)\n",
    "    plt.show()\n"
   ]
  },
  {
   "cell_type": "code",
   "execution_count": 8,
   "id": "dee7aca4-a0b5-425e-8cd8-c6549f3ab387",
   "metadata": {},
   "outputs": [
    {
     "data": {
      "image/png": "[encoded data removed]",
      "text/plain": [
       "<Figure size 600x600 with 1 Axes>"
      ]
     },
     "metadata": {},
     "output_type": "display_data"
    }
   ],
   "source": [
    "plot_box_embeddings(model)"
   ]
  },
  {
   "cell_type": "code",
   "execution_count": 17,
   "id": "10ac6b15-a89c-42a1-bf6f-8dc02349ee4c",
   "metadata": {},
   "outputs": [],
   "source": [
    "dataset = [\n",
    "    (\"He deposited money in the bank\", [\"financial institution\", \"river edge\"], 0, 5),\n",
    "    (\"The fisherman sat on the bank\", [\"financial institution\", \"river edge\"], 1, 5),\n",
    "    (\"The bat flew in the night sky\", [\"flying mammal\", \"cricket equipment\"], 0, 1),\n",
    "    (\"He hit the ball with the bat\", [\"flying mammal\", \"cricket equipment\"], 1, 6),\n",
    "    (\"The crane lifted heavy objects\", [\"bird\", \"machine\"], 1, 1),\n",
    "    (\"I saw a crane flying near the lake\", [\"bird\", \"machine\"], 0, 3),\n",
    "]\n"
   ]
  },
  {
   "cell_type": "code",
   "execution_count": 18,
   "id": "8b2a9f30-c778-4ebf-8075-8ca55df6dc70",
   "metadata": {},
   "outputs": [],
   "source": [
    "def train(model, dataset, epochs=5):\n",
    "    for epoch in range(epochs):\n",
    "        total_loss = 0\n",
    "        for sentence, glosses, label, target_idx in dataset:\n",
    "            loss = train_step(sentence, glosses, label, target_idx)\n",
    "            total_loss += loss\n",
    "\n",
    "        avg_loss = total_loss / len(dataset)\n",
    "        print(f\"Epoch {epoch+1}/{epochs} | Loss: {avg_loss:.4f}\")\n"
   ]
  },
  {
   "cell_type": "code",
   "execution_count": 19,
   "id": "949f435d-1565-4978-9e76-c8a00251dc0e",
   "metadata": {},
   "outputs": [],
   "source": [
    "def evaluate(model, dataset):\n",
    "    model.eval()\n",
    "    y_true, y_pred = [], []\n",
    "\n",
    "    with torch.no_grad():\n",
    "        for sentence, glosses, label, target_idx in dataset:\n",
    "            gloss_text = \" [SEP] \".join([f\"Sense{i+1}: {gloss}\" for i, gloss in enumerate(glosses)])\n",
    "            combined_input = sentence + \" [SEP] \" + gloss_text\n",
    "\n",
    "            logits = model(combined_input, glosses, target_idx)\n",
    "            pred = logits.argmax().item()\n",
    "\n",
    "            y_true.append(label)\n",
    "            y_pred.append(pred)\n",
    "\n",
    "    acc = accuracy_score(y_true, y_pred)\n",
    "    return acc\n"
   ]
  },
  {
   "cell_type": "code",
   "execution_count": 20,
   "id": "2102793b-2eb4-48c9-a4c2-0be22310f01e",
   "metadata": {},
   "outputs": [
    {
     "name": "stdout",
     "output_type": "stream",
     "text": [
      "Epoch 1/5 | Loss: 0.5827\n",
      "Epoch 2/5 | Loss: 0.2829\n",
      "Epoch 3/5 | Loss: 0.1705\n",
      "Epoch 4/5 | Loss: 0.1422\n",
      "Epoch 5/5 | Loss: 0.0824\n",
      "Training Accuracy: 100.00%\n",
      "Test Accuracy: 50.00%\n"
     ]
    }
   ],
   "source": [
    "# Split dataset for testing\n",
    "split = int(0.8 * len(dataset))\n",
    "train_data = dataset[:split]\n",
    "test_data = dataset[split:]\n",
    "\n",
    "# Train model\n",
    "train(model, train_data, epochs=5)\n",
    "\n",
    "# Evaluate\n",
    "train_acc = evaluate(model, train_data)\n",
    "test_acc = evaluate(model, test_data)\n",
    "\n",
    "print(f\"Training Accuracy: {train_acc*100:.2f}%\")\n",
    "print(f\"Test Accuracy: {test_acc*100:.2f}%\")\n"
   ]
  },
  {
   "cell_type": "code",
   "execution_count": 21,
   "id": "d855a60f-6bc6-47a2-8a1c-e46116eb57cf",
   "metadata": {},
   "outputs": [
    {
     "data": {
      "image/png": "[encoded data removed]",
      "text/plain": [
       "<Figure size 700x500 with 1 Axes>"
      ]
     },
     "metadata": {},
     "output_type": "display_data"
    }
   ],
   "source": [
    "# Suppose you ran baseline model and got:\n",
    "baseline_train_acc = 0.72\n",
    "baseline_test_acc = 0.68\n",
    "\n",
    "# Our modified model accuracy:\n",
    "modified_train_acc = train_acc\n",
    "modified_test_acc = test_acc\n",
    "\n",
    "# Plot\n",
    "labels = ['Train Accuracy', 'Test Accuracy']\n",
    "baseline = [baseline_train_acc, baseline_test_acc]\n",
    "modified = [modified_train_acc, modified_test_acc]\n",
    "\n",
    "x = range(len(labels))\n",
    "plt.figure(figsize=(7, 5))\n",
    "plt.bar(x, baseline, width=0.4, label='Original ProtoBox', align='center')\n",
    "plt.bar([p + 0.4 for p in x], modified, width=0.4, label='Modified ProtoBox', align='center')\n",
    "\n",
    "plt.xticks([p + 0.2 for p in x], labels)\n",
    "plt.ylabel('Accuracy')\n",
    "plt.ylim(0, 1)\n",
    "plt.title('Original vs Modified ProtoBox Accuracy (WSD)')\n",
    "plt.legend()\n",
    "plt.show()\n"
   ]
  },
  {
   "cell_type": "code",
   "execution_count": 22,
   "id": "49545363-a18b-4c30-bcbd-98bbc05ffef9",
   "metadata": {},
   "outputs": [
    {
     "ename": "NameError",
     "evalue": "name 'original_model' is not defined",
     "output_type": "error",
     "traceback": [
      "\u001b[1;31m---------------------------------------------------------------------------\u001b[0m",
      "\u001b[1;31mNameError\u001b[0m                                 Traceback (most recent call last)",
      "Cell \u001b[1;32mIn[22], line 5\u001b[0m\n\u001b[0;32m      2\u001b[0m \u001b[38;5;28;01mimport\u001b[39;00m \u001b[38;5;21;01mtorch\u001b[39;00m\n\u001b[0;32m      4\u001b[0m \u001b[38;5;66;03m# Ensure models in eval mode\u001b[39;00m\n\u001b[1;32m----> 5\u001b[0m \u001b[43moriginal_model\u001b[49m\u001b[38;5;241m.\u001b[39meval()\n\u001b[0;32m      6\u001b[0m modified_model\u001b[38;5;241m.\u001b[39meval()\n\u001b[0;32m      8\u001b[0m device \u001b[38;5;241m=\u001b[39m torch\u001b[38;5;241m.\u001b[39mdevice(\u001b[38;5;124m'\u001b[39m\u001b[38;5;124mcuda\u001b[39m\u001b[38;5;124m'\u001b[39m \u001b[38;5;28;01mif\u001b[39;00m torch\u001b[38;5;241m.\u001b[39mcuda\u001b[38;5;241m.\u001b[39mis_available() \u001b[38;5;28;01melse\u001b[39;00m \u001b[38;5;124m'\u001b[39m\u001b[38;5;124mcpu\u001b[39m\u001b[38;5;124m'\u001b[39m)\n",
      "\u001b[1;31mNameError\u001b[0m: name 'original_model' is not defined"
     ]
    }
   ],
   "source": [
    "import pandas as pd\n",
    "import torch\n",
    "\n",
    "# Ensure models in eval mode\n",
    "original_model.eval()\n",
    "modified_model.eval()\n",
    "\n",
    "device = torch.device('cuda' if torch.cuda.is_available() else 'cpu')\n",
    "\n",
    "def get_predictions(model, dataset, tokenizer):\n",
    "    predictions = []\n",
    "    model.to(device)\n",
    "    with torch.no_grad():\n",
    "        for sentence, glosses, label, target_idx in dataset:\n",
    "            gloss_text = \" [SEP] \".join([f\"Sense{i+1}: {gloss}\" for i, gloss in enumerate(glosses)])\n",
    "            combined_input = sentence + \" [SEP] \" + gloss_text\n",
    "\n",
    "            inputs = tokenizer(combined_input, return_tensors='pt', padding=True, truncation=True, max_length=512).to(device)\n",
    "\n",
    "            outputs = model(**inputs)\n",
    "            logits = outputs.logits\n",
    "            pred_label = torch.argmax(logits, dim=1).item()\n",
    "\n",
    "            predictions.append({\n",
    "                'sentence': sentence,\n",
    "                'glosses': glosses,\n",
    "                'true_label': label,\n",
    "                'predicted_label': pred_label\n",
    "            })\n",
    "\n",
    "    return predictions\n",
    "\n",
    "# Get predictions from both models\n",
    "original_preds = get_predictions(original_model, test_data, tokenizer)\n",
    "modified_preds = get_predictions(modified_model, test_data, tokenizer)\n",
    "\n",
    "# Combine into a comparison table\n",
    "comparison = []\n",
    "for orig, mod in zip(original_preds, modified_preds):\n",
    "    comparison.append({\n",
    "        'Sentence': orig['sentence'],\n",
    "        'Glosses': orig['glosses'],\n",
    "        'True Label Index': orig['true_label'],\n",
    "        'Original Pred Index': orig['predicted_label'],\n",
    "        'Modified Pred Index': mod['predicted_label']\n",
    "    })\n",
    "\n",
    "df_comparison = pd.DataFrame(comparison)\n",
    "\n",
    "# Map label index → gloss text\n",
    "def label_to_sense(label, glosses):\n",
    "    return glosses[label] if 0 <= label < len(glosses) else \"Invalid Label\"\n",
    "\n",
    "df_comparison['True Sense'] = df_comparison.apply(lambda row: label_to_sense(row['True Label Index'], row['Glosses']), axis=1)\n",
    "df_comparison['Original Sense'] = df_comparison.apply(lambda row: label_to_sense(row['Original Pred Index'], row['Glosses']), axis=1)\n",
    "df_comparison['Modified Sense'] = df_comparison.apply(lambda row: label_to_sense(row['Modified Pred Index'], row['Glosses']), axis=1)\n",
    "\n",
    "# Highlight mismatches\n",
    "def highlight_diff(row):\n",
    "    if row['Original Sense'] != row['True Sense'] and row['Modified Sense'] == row['True Sense']:\n",
    "        return ['']*5 + ['background-color: lightgreen']*3  # Modified fixed\n",
    "    elif row['Original Sense'] != row['True Sense'] and row['Modified Sense'] != row['True Sense']:\n",
    "        return ['']*5 + ['background-color: lightcoral']*3  # Both wrong\n",
    "    else:\n",
    "        return ['']*8\n",
    "\n",
    "df_comparison.style.apply(highlight_diff, axis=1)\n"
   ]
  },
  {
   "cell_type": "markdown",
   "id": "079cc54a-c3df-4142-ac2f-1c65d1c5f03e",
   "metadata": {},
   "source": [
    "## Response 2"
   ]
  },
  {
   "cell_type": "code",
   "execution_count": 23,
   "id": "301dbe25-10b0-4902-a3af-e3ebfff94c68",
   "metadata": {},
   "outputs": [
    {
     "name": "stderr",
     "output_type": "stream",
     "text": [
      "[nltk_data] Downloading package wordnet to\n",
      "[nltk_data]     C:\\Users\\ujwal\\AppData\\Roaming\\nltk_data...\n",
      "[nltk_data]   Package wordnet is already up-to-date!\n",
      "C:\\Users\\ujwal\\Twin_tower_model\\twin_model\\Lib\\site-packages\\transformers\\tokenization_utils_base.py:1617: FutureWarning: `clean_up_tokenization_spaces` was not set. It will be set to `True` by default. This behavior will be deprecated in transformers v4.45, and will be then set to `False` by default. For more details check this issue: https://github.com/huggingface/transformers/issues/31884\n",
      "  warnings.warn(\n",
      "Some weights of RobertaModel were not initialized from the model checkpoint at roberta-base and are newly initialized: ['roberta.pooler.dense.bias', 'roberta.pooler.dense.weight']\n",
      "You should probably TRAIN this model on a down-stream task to be able to use it for predictions and inference.\n"
     ]
    },
    {
     "name": "stdout",
     "output_type": "stream",
     "text": [
      "Original ProtoBox embedding shape: torch.Size([768])\n",
      "Modified embedding [CLS + token] shape: torch.Size([1536])\n",
      "Modified embedding with gloss injection shape: torch.Size([2048])\n"
     ]
    }
   ],
   "source": [
    "import torch\n",
    "from transformers import AutoTokenizer, AutoModel\n",
    "import nltk\n",
    "from nltk.corpus import wordnet as wn\n",
    "nltk.download('wordnet')\n",
    "\n",
    "def get_wordnet_glosses(word):\n",
    "    senses = wn.synsets(word)\n",
    "    glosses = [f\"{s.definition()}\" for s in senses]\n",
    "    return glosses[:2]  # Limit to top 2 for brevity\n",
    "\n",
    "def get_embedding(model_name, sentence, target_word, inject_gloss=False, add_cls=False):\n",
    "    tokenizer = AutoTokenizer.from_pretrained(model_name)\n",
    "    model = AutoModel.from_pretrained(model_name)\n",
    "    model.eval()\n",
    "\n",
    "    # Inject glosses before sentence\n",
    "    if inject_gloss:\n",
    "        glosses = get_wordnet_glosses(target_word)\n",
    "        sentence = \" \".join(glosses) + \" \" + sentence\n",
    "\n",
    "    tokens = tokenizer(sentence, return_tensors='pt')\n",
    "    with torch.no_grad():\n",
    "        outputs = model(**tokens)\n",
    "    \n",
    "    token_embeddings = outputs.last_hidden_state.squeeze(0)  # [seq_len, hidden_dim]\n",
    "    \n",
    "    # Get token index for the target word\n",
    "    tokenized = tokenizer.tokenize(sentence)\n",
    "    try:\n",
    "        word_index = tokenized.index(target_word)\n",
    "    except ValueError:\n",
    "        # Fallback: use middle token\n",
    "        word_index = len(tokenized) // 2\n",
    "\n",
    "    token_emb = token_embeddings[word_index]\n",
    "    cls_emb = token_embeddings[0]\n",
    "\n",
    "    if add_cls:\n",
    "        combined = torch.cat([cls_emb, token_emb], dim=-1)\n",
    "        return combined\n",
    "    else:\n",
    "        return token_emb\n",
    "\n",
    "# Settings\n",
    "sentence = \"He walked along the bank.\"\n",
    "target_word = \"bank\"\n",
    "\n",
    "# Original ProtoBox: token embedding only\n",
    "proto_emb = get_embedding(\"bert-base-uncased\", sentence, target_word, inject_gloss=False, add_cls=False)\n",
    "\n",
    "# Modified 1: [CLS] + token, no gloss\n",
    "mod_emb_1 = get_embedding(\"roberta-base\", sentence, target_word, inject_gloss=False, add_cls=True)\n",
    "\n",
    "# Modified 2: [CLS] + token + gloss (as in GlossBERT)\n",
    "mod_emb_2 = get_embedding(\"bert-large-uncased\", sentence, target_word, inject_gloss=True, add_cls=True)\n",
    "\n",
    "# Print shapes\n",
    "print(f\"Original ProtoBox embedding shape: {proto_emb.shape}\")\n",
    "print(f\"Modified embedding [CLS + token] shape: {mod_emb_1.shape}\")\n",
    "print(f\"Modified embedding with gloss injection shape: {mod_emb_2.shape}\")\n"
   ]
  },
  {
   "cell_type": "code",
   "execution_count": 27,
   "id": "15c50edd-4fc9-46d4-962c-a7eadc6ab915",
   "metadata": {},
   "outputs": [
    {
     "name": "stdout",
     "output_type": "stream",
     "text": [
      "\n",
      "Predicted sense definition:\n",
      "a financial institution that accepts deposits and channels the money into lending activities\n",
      "Similarity scores: [0.4724158048629761, 0.5310729742050171]\n"
     ]
    }
   ],
   "source": [
    "import torch.nn.functional as F\n",
    "\n",
    "def embed_glosses(glosses, model_name):\n",
    "    tokenizer = AutoTokenizer.from_pretrained(model_name)\n",
    "    model = AutoModel.from_pretrained(model_name)\n",
    "    model.eval()\n",
    "\n",
    "    gloss_embeddings = []\n",
    "    for gloss in glosses:\n",
    "        tokens = tokenizer(gloss, return_tensors='pt')\n",
    "        with torch.no_grad():\n",
    "            outputs = model(**tokens)\n",
    "        cls_emb = outputs.last_hidden_state[:, 0, :].squeeze(0)\n",
    "        token_emb = outputs.last_hidden_state[:, 1, :].squeeze(0)  # take first token after [CLS]\n",
    "        combined = torch.cat([cls_emb, token_emb], dim=-1)\n",
    "        gloss_embeddings.append(combined)\n",
    "    return gloss_embeddings\n",
    "\n",
    "\n",
    "def predict_sense(context_embedding, gloss_embeddings, glosses):\n",
    "    sims = []\n",
    "    for gloss_emb in gloss_embeddings:\n",
    "        sim = F.cosine_similarity(context_embedding, gloss_emb, dim=0)\n",
    "        sims.append(sim.item())\n",
    "    best_idx = int(torch.argmax(torch.tensor(sims)))\n",
    "    return glosses[best_idx], sims\n",
    "\n",
    "# Run this\n",
    "glosses = get_wordnet_glosses(target_word)\n",
    "gloss_embs = embed_glosses(glosses, \"bert-large-uncased\")\n",
    "\n",
    "# Use mod_emb_2 (context + gloss-injected) as context vector\n",
    "predicted_gloss, similarities = predict_sense(mod_emb_2, gloss_embs, glosses)\n",
    "\n",
    "# Output\n",
    "print(\"\\nPredicted sense definition:\")\n",
    "print(predicted_gloss)\n",
    "print(\"Similarity scores:\", similarities)\n"
   ]
  },
  {
   "cell_type": "code",
   "execution_count": 25,
   "id": "3f25df19-b372-4c11-9dda-3f33dc0551ff",
   "metadata": {},
   "outputs": [
    {
     "data": {
      "image/png": "[encoded data removed]",
      "text/plain": [
       "<Figure size 800x600 with 1 Axes>"
      ]
     },
     "metadata": {},
     "output_type": "display_data"
    }
   ],
   "source": [
    "import numpy as np\n",
    "from sklearn.decomposition import PCA\n",
    "import matplotlib.pyplot as plt\n",
    "\n",
    "# Convert all embeddings to numpy\n",
    "emb_list = [\n",
    "    proto_emb.numpy(),         # 768-dim\n",
    "    mod_emb_1.numpy(),         # 1536-dim\n",
    "    mod_emb_2.numpy()          # 1536-dim\n",
    "]\n",
    "\n",
    "# Pad all embeddings to the same max length (1536) for fair PCA\n",
    "max_dim = max(e.shape[0] for e in emb_list)\n",
    "emb_array = np.array([\n",
    "    np.pad(e, (0, max_dim - e.shape[0])) for e in emb_list\n",
    "])\n",
    "\n",
    "# Apply PCA\n",
    "pca = PCA(n_components=2)\n",
    "reduced = pca.fit_transform(emb_array)\n",
    "\n",
    "# Plot\n",
    "labels = ['ProtoBox (token only)', '[CLS]+token (RoBERTa)', '[CLS]+token+gloss']\n",
    "colors = ['red', 'blue', 'green']\n",
    "\n",
    "plt.figure(figsize=(8, 6))\n",
    "for i, label in enumerate(labels):\n",
    "    plt.scatter(reduced[i, 0], reduced[i, 1], color=colors[i], label=label, s=100)\n",
    "\n",
    "plt.title('Embedding Comparison with Mixed Dimensions (PCA)')\n",
    "plt.xlabel('Principal Component 1')\n",
    "plt.ylabel('Principal Component 2')\n",
    "plt.legend()\n",
    "plt.grid(True)\n",
    "plt.tight_layout()\n",
    "plt.show()\n"
   ]
  },
  {
   "cell_type": "code",
   "execution_count": null,
   "id": "157f465d-f603-4e38-a3d4-5c6be229975c",
   "metadata": {},
   "outputs": [],
   "source": []
  }
 ],
 "metadata": {
  "kernelspec": {
   "display_name": "twin_model_kernel",
   "language": "python",
   "name": "twin_model_kernel"
  },
  "language_info": {
   "codemirror_mode": {
    "name": "ipython",
    "version": 3
   },
   "file_extension": ".py",
   "mimetype": "text/x-python",
   "name": "python",
   "nbconvert_exporter": "python",
   "pygments_lexer": "ipython3",
   "version": "3.12.4"
  }
 },
 "nbformat": 4,
 "nbformat_minor": 5
}
